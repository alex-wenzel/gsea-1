{
 "cells": [
  {
   "cell_type": "code",
   "execution_count": 1,
   "metadata": {},
   "outputs": [
    {
     "name": "stdout",
     "output_type": "stream",
     "text": [
      "The autoreload extension is already loaded. To reload it, use:\n",
      "  %reload_ext autoreload\n"
     ]
    }
   ],
   "source": [
    "%load_ext autoreload\n",
    "%autoreload 2\n",
    "%matplotlib inline\n",
    "import numpy as np\n",
    "import pandas as pd\n",
    "import matplotlib.pyplot as plt"
   ]
  },
  {
   "cell_type": "code",
   "execution_count": 2,
   "metadata": {
    "collapsed": true
   },
   "outputs": [],
   "source": [
    "from r_ssgsea import r_ssgsea"
   ]
  },
  {
   "cell_type": "code",
   "execution_count": 3,
   "metadata": {
    "collapsed": true
   },
   "outputs": [],
   "source": [
    "s2g = {'foo': set('1 2 3'.split()), 'bar': set('3 4 5'.split())}"
   ]
  },
  {
   "cell_type": "code",
   "execution_count": 4,
   "metadata": {
    "collapsed": true
   },
   "outputs": [],
   "source": [
    "exp_df = pd.DataFrame(np.random.normal(size=(10, 6)))\n",
    "exp_df.columns = map(str, exp_df.columns)\n",
    "import string\n",
    "exp_df.index = list(string.ascii_lowercase)[:10]"
   ]
  },
  {
   "cell_type": "code",
   "execution_count": 5,
   "metadata": {},
   "outputs": [
    {
     "name": "stdout",
     "output_type": "stream",
     "text": [
      "Rscript /home/jamesdj/Dropbox/toolbox/gsea/run_ssgsea.R /tmp/exp.gct /tmp/genesets.gmt 0.75 /tmp/ssgsea_out.gct /home/jamesdj/Dropbox/toolbox/gsea/CCBA.ssgsea.R\n",
      "Output: \n",
      "R version 3.4.3 (2017-11-30)\n",
      "Platform: x86_64-pc-linux-gnu (64-bit)\n",
      "Running under: Ubuntu 16.04.3 LTS\n",
      "\n",
      "Matrix products: default\n",
      "BLAS: /usr/lib/atlas-base/atlas/libblas.so.3.0\n",
      "LAPACK: /usr/lib/atlas-base/atlas/liblapack.so.3.0\n",
      "\n",
      "locale:\n",
      " [1] LC_CTYPE=en_US.UTF-8       LC_NUMERIC=C              \n",
      " [3] LC_TIME=en_US.UTF-8        LC_COLLATE=en_US.UTF-8    \n",
      " [5] LC_MONETARY=en_US.UTF-8    LC_MESSAGES=en_US.UTF-8   \n",
      " [7] LC_PAPER=en_US.UTF-8       LC_NAME=C                 \n",
      " [9] LC_ADDRESS=C               LC_TELEPHONE=C            \n",
      "[11] LC_MEASUREMENT=en_US.UTF-8 LC_IDENTIFICATION=C       \n",
      "\n",
      "attached base packages:\n",
      "[1] stats     graphics  grDevices utils     datasets  base     \n",
      "\n",
      "loaded via a namespace (and not attached):\n",
      "[1] compiler_3.4.3\n",
      "     gs.names Freq\n",
      "1         bar    1\n",
      "2         foo    1\n",
      "NA       <NA>   NA\n",
      "NA.1     <NA>   NA\n",
      "NA.2     <NA>   NA\n",
      "NA.3     <NA>   NA\n",
      "NA.4     <NA>   NA\n",
      "NA.5     <NA>   NA\n",
      "NA.6     <NA>   NA\n",
      "NA.7     <NA>   NA\n",
      "[1] \"Total gene sets: 2\"\n",
      "[1] \"Unique gene sets: 2\"\n",
      "[1] \"Size score.matrix: 2\"  \"Size score.matrix: 10\"\n",
      "[1] \"Size score.matrix.2: 2\"  \"Size score.matrix.2: 10\"\n",
      "[1] \"1 gene set: foo  overlap= 3\"\n",
      "[1] \"Size score.matrix: 2\"  \"Size score.matrix: 10\"\n",
      "[1] \"2 gene set: bar  overlap= 3\"\n",
      "[1] \"Size score.matrix: 2\"  \"Size score.matrix: 10\"\n",
      "[1] \"N.gs before overlap prunning: 2\"\n",
      "[1] \"N.gs after overlap prunning: 2\"\n",
      "[1] \"Size score.matrix: 2\"  \"Size score.matrix: 10\"\n",
      "[1] \"Size score.matrix.2: 2\"  \"Size score.matrix.2: 10\"\n",
      "      gs.names.2 Freq\n",
      "1            bar    1\n",
      "2            foo    1\n",
      "NA          <NA>   NA\n",
      "NA.1        <NA>   NA\n",
      "NA.2        <NA>   NA\n",
      "NA.3        <NA>   NA\n",
      "NA.4        <NA>   NA\n",
      "NA.5        <NA>   NA\n",
      "NA.6        <NA>   NA\n",
      "NA.7        <NA>   NA\n",
      "NA.8        <NA>   NA\n",
      "NA.9        <NA>   NA\n",
      "NA.10       <NA>   NA\n",
      "NA.11       <NA>   NA\n",
      "NA.12       <NA>   NA\n",
      "NA.13       <NA>   NA\n",
      "NA.14       <NA>   NA\n",
      "NA.15       <NA>   NA\n",
      "NA.16       <NA>   NA\n",
      "NA.17       <NA>   NA\n",
      "[1] \"Total gene sets: 2\"\n",
      "[1] \"Unique gene sets: 2\"\n",
      "\n",
      "\n"
     ]
    }
   ],
   "source": [
    "by_r = r_ssgsea(exp_df, genesets=s2g)"
   ]
  },
  {
   "cell_type": "code",
   "execution_count": 6,
   "metadata": {
    "collapsed": true
   },
   "outputs": [],
   "source": [
    "from gsea import ssgsea"
   ]
  },
  {
   "cell_type": "code",
   "execution_count": 7,
   "metadata": {
    "collapsed": true
   },
   "outputs": [],
   "source": [
    "by_py = ssgsea(exp_df, s2g)"
   ]
  },
  {
   "cell_type": "code",
   "execution_count": 8,
   "metadata": {},
   "outputs": [
    {
     "data": {
      "text/plain": [
       "<matplotlib.collections.PathCollection at 0x7f1ecb9725f8>"
      ]
     },
     "execution_count": 8,
     "metadata": {},
     "output_type": "execute_result"
    },
    {
     "data": {
      "image/png": "[encoded data removed]",
      "text/plain": [
       "<matplotlib.figure.Figure at 0x7f1ece0083c8>"
      ]
     },
     "metadata": {},
     "output_type": "display_data"
    }
   ],
   "source": [
    "plt.scatter(by_r.values.ravel(), by_py.values.ravel())"
   ]
  }
 ],
 "metadata": {
  "kernelspec": {
   "display_name": "Python 3",
   "language": "python",
   "name": "python3"
  },
  "language_info": {
   "codemirror_mode": {
    "name": "ipython",
    "version": 3
   },
   "file_extension": ".py",
   "mimetype": "text/x-python",
   "name": "python",
   "nbconvert_exporter": "python",
   "pygments_lexer": "ipython3",
   "version": "3.6.1"
  }
 },
 "nbformat": 4,
 "nbformat_minor": 2
}
